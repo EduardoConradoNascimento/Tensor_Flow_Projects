{
 "cells": [
  {
   "cell_type": "code",
   "execution_count": 15,
   "id": "d511a9d7",
   "metadata": {},
   "outputs": [
    {
     "data": {
      "application/vnd.jupyter.widget-view+json": {
       "model_id": "6a6db3d520034630b971c02c1a51148b",
       "version_major": 2,
       "version_minor": 0
      },
      "text/plain": [
       "interactive(children=(IntSlider(value=10, description='i', max=30, min=-10), Output()), _dom_classes=('widget-…"
      ]
     },
     "metadata": {},
     "output_type": "display_data"
    }
   ],
   "source": [
    "import numpy as np\n",
    "import plotly.express as px\n",
    "import matplotlib.pyplot as plt\n",
    "import ipywidgets as widgets\n",
    "from ipywidgets import interact, interactive, fixed, interact_manual\n",
    "import cv2\n",
    "import tensorflow as tf\n",
    "from tensorflow.keras.layers import Dense, Flatten, Conv2D, MaxPooling2D\n",
    "from tensorflow.keras import datasets\n",
    "import os\n",
    "\n",
    "(x_train, y_train), (x_test, y_test_raw) = datasets.mnist.load_data()\n",
    "\n",
    "@interact(i=10)\n",
    "\n",
    "def show_number(i):\n",
    "    img = px.imshow(x_train[i],title=str(y_train[i]))\n",
    "    return img.show()"
   ]
  },
  {
   "cell_type": "code",
   "execution_count": 16,
   "id": "15f50eb6",
   "metadata": {},
   "outputs": [],
   "source": [
    "x_train , x_test = x_train/255.0, x_test/255.0"
   ]
  },
  {
   "cell_type": "code",
   "execution_count": 17,
   "id": "2ea4909b",
   "metadata": {},
   "outputs": [],
   "source": [
    "y_train = tf.keras.utils.to_categorical(y_train)"
   ]
  },
  {
   "cell_type": "code",
   "execution_count": 18,
   "id": "c2935dc9",
   "metadata": {},
   "outputs": [],
   "source": [
    "y_test_raw = tf.keras.utils.to_categorical(y_test_raw)"
   ]
  },
  {
   "cell_type": "code",
   "execution_count": 19,
   "id": "f5c5ffe9",
   "metadata": {},
   "outputs": [],
   "source": [
    "os.environ['CUDA_VISIBLE_DEVICES'] = '-1'\n",
    "model = tf.keras.Sequential()\n",
    "model.add(Flatten(input_shape = (28, 28)))\n",
    "model.add(Dense(128, activation = 'relu'))\n",
    "model.add(Dense(10, activation = 'softmax'))"
   ]
  },
  {
   "cell_type": "code",
   "execution_count": 20,
   "id": "3c74a565",
   "metadata": {},
   "outputs": [],
   "source": [
    "model.compile(loss='categorical_crossentropy',optimizer = 'adam', metrics=['accuracy'])\n"
   ]
  },
  {
   "cell_type": "code",
   "execution_count": 21,
   "id": "226e5e9d",
   "metadata": {},
   "outputs": [
    {
     "name": "stdout",
     "output_type": "stream",
     "text": [
      "Epoch 1/10\n"
     ]
    },
    {
     "name": "stderr",
     "output_type": "stream",
     "text": [
      "2022-04-11 00:09:42.911633: W tensorflow/core/framework/cpu_allocator_impl.cc:82] Allocation of 131712000 exceeds 10% of free system memory.\n"
     ]
    },
    {
     "name": "stdout",
     "output_type": "stream",
     "text": [
      "1289/1313 [============================>.] - ETA: 0s - loss: 0.3007 - accuracy: 0.9158"
     ]
    },
    {
     "name": "stderr",
     "output_type": "stream",
     "text": [
      "2022-04-11 00:09:44.848016: W tensorflow/core/framework/cpu_allocator_impl.cc:82] Allocation of 56448000 exceeds 10% of free system memory.\n"
     ]
    },
    {
     "name": "stdout",
     "output_type": "stream",
     "text": [
      "1313/1313 [==============================] - 2s 2ms/step - loss: 0.2990 - accuracy: 0.9164 - val_loss: 0.1799 - val_accuracy: 0.9495\n",
      "Epoch 2/10\n",
      "1313/1313 [==============================] - 1s 1ms/step - loss: 0.1359 - accuracy: 0.9606 - val_loss: 0.1290 - val_accuracy: 0.9614\n",
      "Epoch 3/10\n",
      "1313/1313 [==============================] - 1s 1ms/step - loss: 0.0942 - accuracy: 0.9718 - val_loss: 0.1267 - val_accuracy: 0.9626\n",
      "Epoch 4/10\n",
      "1313/1313 [==============================] - 1s 1ms/step - loss: 0.0695 - accuracy: 0.9797 - val_loss: 0.1083 - val_accuracy: 0.9689\n",
      "Epoch 5/10\n",
      "1313/1313 [==============================] - 2s 1ms/step - loss: 0.0534 - accuracy: 0.9837 - val_loss: 0.0992 - val_accuracy: 0.9719\n",
      "Epoch 6/10\n",
      "1313/1313 [==============================] - 1s 1ms/step - loss: 0.0402 - accuracy: 0.9884 - val_loss: 0.1127 - val_accuracy: 0.9679\n",
      "Epoch 7/10\n",
      "1313/1313 [==============================] - 1s 1ms/step - loss: 0.0311 - accuracy: 0.9903 - val_loss: 0.1014 - val_accuracy: 0.9713\n",
      "Epoch 8/10\n",
      "1313/1313 [==============================] - 2s 1ms/step - loss: 0.0257 - accuracy: 0.9924 - val_loss: 0.1042 - val_accuracy: 0.9715\n",
      "Epoch 9/10\n",
      "1313/1313 [==============================] - 1s 1ms/step - loss: 0.0191 - accuracy: 0.9946 - val_loss: 0.1385 - val_accuracy: 0.9658\n",
      "Epoch 10/10\n",
      "1313/1313 [==============================] - 2s 1ms/step - loss: 0.0175 - accuracy: 0.9944 - val_loss: 0.1034 - val_accuracy: 0.9739\n"
     ]
    },
    {
     "data": {
      "text/plain": [
       "<keras.callbacks.History at 0x7f7d17e85f10>"
      ]
     },
     "execution_count": 21,
     "metadata": {},
     "output_type": "execute_result"
    }
   ],
   "source": [
    "model.fit(x=x_train, y=y_train, validation_split=0.3, epochs=10)"
   ]
  },
  {
   "cell_type": "code",
   "execution_count": 22,
   "id": "e07d7e89",
   "metadata": {},
   "outputs": [
    {
     "name": "stdout",
     "output_type": "stream",
     "text": [
      "313/313 [==============================] - 0s 656us/step - loss: 0.0892 - accuracy: 0.9760\n"
     ]
    },
    {
     "data": {
      "text/plain": [
       "[0.08919429033994675, 0.9760000109672546]"
      ]
     },
     "execution_count": 22,
     "metadata": {},
     "output_type": "execute_result"
    }
   ],
   "source": [
    "model.evaluate(x_test, y_test_raw)"
   ]
  },
  {
   "cell_type": "code",
   "execution_count": null,
   "id": "ca841243",
   "metadata": {},
   "outputs": [],
   "source": []
  }
 ],
 "metadata": {
  "kernelspec": {
   "display_name": "Python 3 (ipykernel)",
   "language": "python",
   "name": "python3"
  },
  "language_info": {
   "codemirror_mode": {
    "name": "ipython",
    "version": 3
   },
   "file_extension": ".py",
   "mimetype": "text/x-python",
   "name": "python",
   "nbconvert_exporter": "python",
   "pygments_lexer": "ipython3",
   "version": "3.8.10"
  }
 },
 "nbformat": 4,
 "nbformat_minor": 5
}
